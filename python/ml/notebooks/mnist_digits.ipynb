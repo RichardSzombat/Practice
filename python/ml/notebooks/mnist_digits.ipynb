{
 "cells": [
  {
   "cell_type": "code",
   "execution_count": null,
   "metadata": {
    "collapsed": false,
    "deletable": true,
    "editable": true
   },
   "outputs": [],
   "source": [
    "import numpy as np\n",
    "import copy\n",
    "import bayes_logistic as bl\n",
    "from sklearn import datasets"
   ]
  },
  {
   "cell_type": "code",
   "execution_count": null,
   "metadata": {
    "collapsed": true,
    "deletable": true,
    "editable": true
   },
   "outputs": [],
   "source": [
    "# Digit we want to classify\n",
    "DIGIT = 1"
   ]
  },
  {
   "cell_type": "code",
   "execution_count": null,
   "metadata": {
    "collapsed": false,
    "deletable": true,
    "editable": true
   },
   "outputs": [],
   "source": [
    "# Prep the MNIST image classification data. The data is divided into training, \n",
    "# cross validation (cv) and test sets\n",
    "\n",
    "TRAINING_PERCENTAGE = 0.6\n",
    "CV_PERCENTAGE = 0.2\n",
    "TEST_PERCENTAGE  = 0.2\n",
    "\n",
    "digits = datasets.load_digits()\n",
    "n_samples, n_features = digits.data.shape\n",
    "\n",
    "# Add bias column to the feature matrix\n",
    "X = np.ones((n_samples, n_features + 1))\n",
    "X[:, 1:] = digits.data\n",
    "\n",
    "# Change the vector to binary data\n",
    "y = digits.target\n",
    "for idx in range(0, y.shape[0]):\n",
    "    y[idx] = 1.0 if y[idx] == DIGIT else 0.0\n",
    "\n",
    "training_cnt = int(n_samples*TRAINING_PERCENTAGE)\n",
    "training_X = X[:training_cnt,:]\n",
    "training_y = y[:training_cnt]\n",
    "\n",
    "cv_cnt = int(n_samples*CV_PERCENTAGE)\n",
    "cv_X = X[training_cnt:(training_cnt + cv_cnt),:]\n",
    "cv_y = y[training_cnt:(training_cnt + cv_cnt)]\n",
    "\n",
    "test_cnt = int(n_samples*TEST_PERCENTAGE)\n",
    "test_X = X[(training_cnt + cv_cnt):,:]\n",
    "test_y = y[(training_cnt + cv_cnt):]\n"
   ]
  },
  {
   "cell_type": "code",
   "execution_count": null,
   "metadata": {
    "collapsed": false,
    "deletable": true,
    "editable": true
   },
   "outputs": [],
   "source": [
    "# Train the model \n",
    "GD_BATCH_SIZE = training_cnt\n",
    "ITERATION_CNT = 1\n",
    "w = training_X.shape[1]\n",
    "w_prior = np.zeros(w)\n",
    "H_prior = np.diag(np.ones(w))*0.001\n",
    "\n",
    "for i in range(0, ITERATION_CNT):\n",
    "    for idx in range(0, training_cnt, GD_BATCH_SIZE):\n",
    "        batch_size = GD_BATCH_SIZE if (idx + GD_BATCH_SIZE) < training_cnt else training_cnt - idx\n",
    "        w_posterior, H_posterior = bl.fit_bayes_logistic(training_y[idx:batch_size], \n",
    "                                                     training_X[idx:batch_size,:], \n",
    "                                                     w_prior, H_prior, solver = 'BFGS')\n",
    "        w_prior = copy.copy(w_posterior)\n",
    "        H_prior = copy.copy(H_posterior)\n",
    "    \n",
    "    # Perform Cross validation\n",
    "    y_cnt = 0\n",
    "    cv_probs = bl.bayes_logistic_prob(cv_X, w_prior, H_prior)\n",
    "    prediction_cnt = 0\n",
    "    for idx in range(0, cv_cnt):\n",
    "        if cv_probs[idx] > 0.9 and cv_y[idx] == 1:\n",
    "            prediction_cnt += 1\n",
    "        y_cnt += 1\n",
    "        \n",
    "    prediction_accuracy = (100.0*prediction_cnt)/y_cnt\n",
    "    print \"Prediction Accuracy for cross validation set %.02f\" % prediction_accuracy"
   ]
  },
  {
   "cell_type": "code",
   "execution_count": null,
   "metadata": {
    "collapsed": false,
    "deletable": true,
    "editable": true
   },
   "outputs": [],
   "source": [
    "# Perform Test\n",
    "y_cnt = 0\n",
    "test_probs = bl.bayes_logistic_prob(test_X, w_prior, H_prior)\n",
    "prediction_cnt = 0\n",
    "for idx in range(0, test_cnt):\n",
    "    if cv_probs[idx] > 0.5 and cv_y[idx] == 1:\n",
    "        prediction_cnt += 1\n",
    "    y_cnt += 1\n",
    "        \n",
    "prediction_accuracy = (100.0*prediction_cnt)/y_cnt\n",
    "print \"Prediction Accuracy for test set %.02f\" % prediction_accuracy"
   ]
  }
 ],
 "metadata": {
  "kernelspec": {
   "display_name": "Python 2",
   "language": "python",
   "name": "python2"
  },
  "language_info": {
   "codemirror_mode": {
    "name": "ipython",
    "version": 2
   },
   "file_extension": ".py",
   "mimetype": "text/x-python",
   "name": "python",
   "nbconvert_exporter": "python",
   "pygments_lexer": "ipython2",
   "version": "2.7.12"
  }
 },
 "nbformat": 4,
 "nbformat_minor": 2
}
