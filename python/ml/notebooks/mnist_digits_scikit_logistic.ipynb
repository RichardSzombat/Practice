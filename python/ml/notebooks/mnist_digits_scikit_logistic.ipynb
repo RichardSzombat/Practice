{
 "cells": [
  {
   "cell_type": "code",
   "execution_count": 45,
   "metadata": {
    "collapsed": false,
    "deletable": true,
    "editable": true
   },
   "outputs": [],
   "source": [
    "import numpy as np\n",
    "import copy\n",
    "import bayes_logistic as bl\n",
    "from sklearn import datasets\n",
    "from sklearn import linear_model"
   ]
  },
  {
   "cell_type": "code",
   "execution_count": 46,
   "metadata": {
    "collapsed": true,
    "deletable": true,
    "editable": true
   },
   "outputs": [],
   "source": [
    "# The digit we want to classify\n",
    "DIGIT = 1"
   ]
  },
  {
   "cell_type": "code",
   "execution_count": 47,
   "metadata": {
    "collapsed": false,
    "deletable": true,
    "editable": true
   },
   "outputs": [],
   "source": [
    "# Prep the MNIST image classification data. The data is divided into training and test sets\n",
    "\n",
    "TRAINING_PERCENTAGE = 0.8\n",
    "TEST_PERCENTAGE  = 0.2\n",
    "\n",
    "digits = datasets.load_digits()\n",
    "n_samples, n_features = digits.data.shape\n",
    "\n",
    "# Add bias column to the feature matrix\n",
    "X = np.ones((n_samples, n_features + 1))\n",
    "X[:, 1:] = digits.data\n",
    "\n",
    "# Change the vector to binary data\n",
    "y = digits.target\n",
    "for idx in range(0, y.shape[0]):\n",
    "    y[idx] = 1.0 if y[idx] == DIGIT else 0.0\n",
    "\n",
    "training_cnt = int(n_samples*TRAINING_PERCENTAGE)\n",
    "training_X = X[:training_cnt,:]\n",
    "training_y = y[:training_cnt]\n",
    "\n",
    "test_X = X[training_cnt:,:]\n",
    "test_y = y[training_cnt:]\n"
   ]
  },
  {
   "cell_type": "code",
   "execution_count": 48,
   "metadata": {
    "collapsed": false,
    "deletable": true,
    "editable": true
   },
   "outputs": [],
   "source": [
    "# Train the model \n",
    "logistic = linear_model.LogisticRegression()\n",
    "model = logistic.fit(training_X, training_y)"
   ]
  },
  {
   "cell_type": "code",
   "execution_count": 49,
   "metadata": {
    "collapsed": false,
    "deletable": true,
    "editable": true
   },
   "outputs": [
    {
     "data": {
      "text/plain": [
       "0.94999999999999996"
      ]
     },
     "execution_count": 49,
     "metadata": {},
     "output_type": "execute_result"
    }
   ],
   "source": [
    "# Perform Test        \n",
    "model.score(test_X, test_y)"
   ]
  }
 ],
 "metadata": {
  "kernelspec": {
   "display_name": "Python 2",
   "language": "python",
   "name": "python2"
  },
  "language_info": {
   "codemirror_mode": {
    "name": "ipython",
    "version": 2
   },
   "file_extension": ".py",
   "mimetype": "text/x-python",
   "name": "python",
   "nbconvert_exporter": "python",
   "pygments_lexer": "ipython2",
   "version": "2.7.12"
  }
 },
 "nbformat": 4,
 "nbformat_minor": 2
}
